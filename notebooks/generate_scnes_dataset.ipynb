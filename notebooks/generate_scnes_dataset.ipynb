{
 "cells": [
  {
   "cell_type": "code",
   "execution_count": 1,
   "id": "18b1e8e8",
   "metadata": {},
   "outputs": [],
   "source": [
    "import cv2\n",
    "import numpy as np\n",
    "from matplotlib import pyplot as plt\n",
    "import os\n",
    "from tqdm.notebook import tqdm\n",
    "from shutil import copyfile\n",
    "from skimage.metrics import structural_similarity as ssim\n",
    "\n",
    "%matplotlib inline"
   ]
  },
  {
   "cell_type": "code",
   "execution_count": 2,
   "id": "868e9941",
   "metadata": {},
   "outputs": [],
   "source": [
    "def calculate_ssim(rgb1, rgb2) -> float:\n",
    "    return ssim(\n",
    "        cv2.cvtColor(rgb1, cv2.COLOR_RGB2YCrCb)[..., 0],\n",
    "        cv2.cvtColor(rgb2, cv2.COLOR_RGB2YCrCb)[..., 0],\n",
    "        data_range=255\n",
    "    )"
   ]
  },
  {
   "cell_type": "code",
   "execution_count": 4,
   "id": "a5177d68",
   "metadata": {},
   "outputs": [
    {
     "name": "stdout",
     "output_type": "stream",
     "text": [
      "Use crop\n"
     ]
    },
    {
     "data": {
      "application/vnd.jupyter.widget-view+json": {
       "model_id": "1ecc859693c0441a8f2ed8d48d44adf6",
       "version_major": 2,
       "version_minor": 0
      },
      "text/plain": [
       "0it [00:00, ?it/s]"
      ]
     },
     "metadata": {},
     "output_type": "display_data"
    }
   ],
   "source": [
    "camera_type = 'iphone13'\n",
    "\n",
    "devices_settings = {\n",
    "    'iphone13': {\n",
    "        'ext': '.TIF',\n",
    "        'splitter': 'IMG_',\n",
    "        'need_crop': True,\n",
    "        'crop_box': [800, 800, 3000, 2200],\n",
    "        'folder': 'iphone13',\n",
    "        'stat': {\n",
    "            'ISO': [100, 200, 400, 800, 3200],\n",
    "            'shutter': [10, 20, 40, 80, 320]\n",
    "        }\n",
    "    },\n",
    "    'sony': {\n",
    "        'ext': '.tiff',\n",
    "        'splitter': 'DSC',\n",
    "        'need_crop': False,\n",
    "        'folder': 'sonya7c',\n",
    "        'stat': {\n",
    "            'ISO': [250, 500, 2000, 4000, 8000, 16000],\n",
    "            'shutter': [25, 50, 200, 400, 800, 1600]\n",
    "        }\n",
    "    }\n",
    "}\n",
    "        \n",
    "settings = devices_settings[camera_type]\n",
    "\n",
    "images_folder = '/media/alexey/HDDData/datasets/image_denoising/ours_dataset/temp_checking/{}/raw/'.format(\n",
    "    settings['folder']\n",
    ")\n",
    "images_folder = '/media/alexey/HDDData/datasets/image_denoising/ours_dataset/sonya7c/scene_2/raw/'\n",
    "\n",
    "images_paths = [\n",
    "    os.path.join(images_folder, fname) \n",
    "    for fname in os.listdir(images_folder)\n",
    "    if fname.endswith(settings['ext'])\n",
    "]\n",
    "    \n",
    "\n",
    "images_paths.sort(key=lambda x: int(os.path.splitext(x)[0].split(settings['splitter'])[-1]))\n",
    "images_paths = images_paths[:10]\n",
    "\n",
    "if settings['need_crop']:\n",
    "    print('Use crop')\n",
    "    x1, y1, x2, y2 = settings['crop_box']\n",
    "    \n",
    "    images = [\n",
    "        cv2.cvtColor(\n",
    "            cv2.imread(img_path, cv2.IMREAD_COLOR)[y1:y2, x1:x2],\n",
    "            cv2.COLOR_BGR2RGB\n",
    "        )\n",
    "        for img_path in tqdm(images_paths)\n",
    "    ]\n",
    "else:\n",
    "    images = [\n",
    "        cv2.cvtColor(cv2.imread(img_path, cv2.IMREAD_COLOR), cv2.COLOR_BGR2RGB)\n",
    "        for img_path in tqdm(images_paths)\n",
    "    ]\n",
    "    \n",
    "images = np.array(images)"
   ]
  },
  {
   "cell_type": "code",
   "execution_count": 6,
   "id": "81489af8",
   "metadata": {},
   "outputs": [
    {
     "data": {
      "application/vnd.jupyter.widget-view+json": {
       "model_id": "22325da934e9428da23c4e4c5a30d344",
       "version_major": 2,
       "version_minor": 0
      },
      "text/plain": [
       "  0%|          | 0/4 [00:00<?, ?it/s]"
      ]
     },
     "metadata": {},
     "output_type": "display_data"
    }
   ],
   "source": [
    "base_path = '/media/alexey/HDDData/datasets/image_denoising/ours_dataset/iphone13/'\n",
    "gts_path = '/media/alexey/HDDData/datasets/image_denoising/ours_dataset/aligned_frames/'\n",
    "\n",
    "os.makedirs(os.path.join(gts_path, 'clear/'), exist_ok=True)\n",
    "os.makedirs(os.path.join(gts_path, 'noisy/'), exist_ok=True)\n",
    "\n",
    "for scene in tqdm(os.listdir(base_path)):\n",
    "    images_folder = os.path.join(base_path, scene, 'raw')\n",
    "    images_paths = [\n",
    "        os.path.join(images_folder, fname) \n",
    "        for fname in os.listdir(images_folder)\n",
    "        if fname.endswith(settings['ext'])\n",
    "    ]\n",
    "    \n",
    "    images_paths.sort(key=lambda x: int(os.path.splitext(x)[0].split(settings['splitter'])[-1]))\n",
    "    clear_images_paths = images_paths[:10]\n",
    "    noisy_images_paths = images_paths[10:]\n",
    "    \n",
    "    if settings['need_crop']:\n",
    "        x1, y1, x2, y2 = settings['crop_box']\n",
    "\n",
    "        clear_images = [\n",
    "            cv2.cvtColor(\n",
    "                cv2.imread(img_path, cv2.IMREAD_COLOR)[y1:y2, x1:x2],\n",
    "                cv2.COLOR_BGR2RGB\n",
    "            )\n",
    "            for img_path in clear_images_paths\n",
    "        ]\n",
    "    else:\n",
    "        clear_images = [\n",
    "            cv2.cvtColor(cv2.imread(img_path, cv2.IMREAD_COLOR), cv2.COLOR_BGR2RGB)\n",
    "            for img_path in clear_images_paths\n",
    "        ]\n",
    "\n",
    "    clear_images = np.array(clear_images)\n",
    "    clear_frame = clear_images.astype(np.float32).mean(axis=0).astype(np.uint8)\n",
    "    \n",
    "    for i, noisy_img_path in enumerate(noisy_images_paths):\n",
    "        gt_path = os.path.join(gts_path, 'clear/', 'custom_{}_{}_{}.tiff'.format(camera_type, scene, i + 1))\n",
    "        noisy_path = os.path.join(gts_path, 'noisy/', 'custom_{}_{}_{}.tiff'.format(camera_type, scene, i + 1))\n",
    "        \n",
    "        assert cv2.imwrite(gt_path, cv2.cvtColor(clear_frame, cv2.COLOR_RGB2BGR)), gt_path\n",
    "        \n",
    "        _img = cv2.imread(noisy_img_path, cv2.IMREAD_COLOR)\n",
    "        if settings['need_crop']:\n",
    "            x1, y1, x2, y2 = settings['crop_box']\n",
    "            _img = _img[y1:y2, x1:x2]\n",
    "        \n",
    "        assert cv2.imwrite(noisy_path, _img), noisy_path"
   ]
  },
  {
   "cell_type": "code",
   "execution_count": 41,
   "id": "139c3eb9",
   "metadata": {},
   "outputs": [
    {
     "data": {
      "application/vnd.jupyter.widget-view+json": {
       "model_id": "53e373de0b0c485fb1187f90a137e908",
       "version_major": 2,
       "version_minor": 0
      },
      "text/plain": [
       "  0%|          | 0/4 [00:00<?, ?it/s]"
      ]
     },
     "metadata": {},
     "output_type": "display_data"
    },
    {
     "name": "stdout",
     "output_type": "stream",
     "text": [
      "CLEAR | iphone13: ISO: 100, S: 1/10, E[PSNR]=29.36, STD[PSNR]=4.66, E[SSIM]=0.86, STD[SSIM]=0.02\n",
      "NOISY | iphone13: ISO: 200, S: 1/20, E[PSNR]=25.56, STD[PSNR]=1.78, E[SSIM]=0.83, STD[SSIM]=0.04\n",
      "NOISY | iphone13: ISO: 400, S: 1/40, E[PSNR]=27.94, STD[PSNR]=4.20, E[SSIM]=0.82, STD[SSIM]=0.05\n",
      "NOISY | iphone13: ISO: 800, S: 1/80, E[PSNR]=24.72, STD[PSNR]=1.80, E[SSIM]=0.91, STD[SSIM]=0.03\n"
     ]
    },
    {
     "data": {
      "application/vnd.jupyter.widget-view+json": {
       "model_id": "9f4a744d637142deb9d9af16b1ef52ca",
       "version_major": 2,
       "version_minor": 0
      },
      "text/plain": [
       "  0%|          | 0/8 [00:00<?, ?it/s]"
      ]
     },
     "metadata": {},
     "output_type": "display_data"
    },
    {
     "name": "stdout",
     "output_type": "stream",
     "text": [
      "CLEAR | sony: ISO: 250, S: 1/25, E[PSNR]=45.22, STD[PSNR]=1.21, E[SSIM]=0.98, STD[SSIM]=0.01\n",
      "NOISY | sony: ISO: 500, S: 1/50, E[PSNR]=41.66, STD[PSNR]=1.40, E[SSIM]=0.95, STD[SSIM]=0.01\n",
      "NOISY | sony: ISO: 2000, S: 1/200, E[PSNR]=37.02, STD[PSNR]=1.96, E[SSIM]=0.87, STD[SSIM]=0.04\n",
      "NOISY | sony: ISO: 4000, S: 1/400, E[PSNR]=34.85, STD[PSNR]=1.82, E[SSIM]=0.81, STD[SSIM]=0.05\n",
      "NOISY | sony: ISO: 8000, S: 1/800, E[PSNR]=34.12, STD[PSNR]=0.66, E[SSIM]=0.83, STD[SSIM]=0.04\n",
      "NOISY | sony: ISO: 16000, S: 1/1600, E[PSNR]=30.53, STD[PSNR]=0.93, E[SSIM]=0.79, STD[SSIM]=0.02\n"
     ]
    }
   ],
   "source": [
    "# Estimate PSNR, SIMM and deviations of these metrics\n",
    "\n",
    "\n",
    "gts_path = '/media/alexey/HDDData/datasets/image_denoising/ours_dataset/aligned_frames/'\n",
    "for camera_type in ['iphone13', 'sony']:\n",
    "    settings = devices_settings[camera_type]\n",
    "    base_path = '/media/alexey/HDDData/datasets/image_denoising/ours_dataset/{}/'.format(\n",
    "        settings['folder']\n",
    "    )\n",
    "    \n",
    "    clear_psnrs = []\n",
    "    clear_ssims = []\n",
    "    \n",
    "    noisy_psnrs = [[] for _ in settings['stat']['ISO']]\n",
    "    noisy_ssims = [[] for _ in settings['stat']['ISO']]\n",
    "    \n",
    "    for scene in tqdm(os.listdir(base_path)):\n",
    "        images_folder = os.path.join(base_path, scene, 'raw')\n",
    "        images_paths = [\n",
    "            os.path.join(images_folder, fname) \n",
    "            for fname in os.listdir(images_folder)\n",
    "            if fname.endswith(settings['ext'])\n",
    "        ]\n",
    "\n",
    "        images_paths.sort(key=lambda x: int(os.path.splitext(x)[0].split(settings['splitter'])[-1]))\n",
    "        clear_images_paths = images_paths[:10]\n",
    "        noisy_images_paths = images_paths[10:]\n",
    "\n",
    "        if settings['need_crop']:\n",
    "            # print('Use crop')\n",
    "            x1, y1, x2, y2 = settings['crop_box']\n",
    "\n",
    "            clear_images = [\n",
    "                cv2.cvtColor(\n",
    "                    cv2.imread(img_path, cv2.IMREAD_COLOR)[y1:y2, x1:x2],\n",
    "                    cv2.COLOR_BGR2RGB\n",
    "                )\n",
    "                for img_path in clear_images_paths\n",
    "            ]\n",
    "        else:\n",
    "            clear_images = [\n",
    "                cv2.cvtColor(cv2.imread(img_path, cv2.IMREAD_COLOR), cv2.COLOR_BGR2RGB)\n",
    "                for img_path in clear_images_paths\n",
    "            ]\n",
    "\n",
    "        clear_images = np.array(clear_images)\n",
    "        clear_frame = clear_images.astype(np.float32).mean(axis=0).astype(np.uint8)\n",
    "        \n",
    "        psnr_list = [cv2.PSNR(img, clear_frame) for img in clear_images]\n",
    "        ssim_list = [calculate_ssim(img, clear_frame) for img in clear_images]\n",
    "        \n",
    "        clear_psnrs += psnr_list\n",
    "        clear_ssims += ssim_list\n",
    "\n",
    "        for i, noisy_img_path in enumerate(noisy_images_paths):\n",
    "            _img = cv2.imread(noisy_img_path, cv2.IMREAD_COLOR)\n",
    "            if settings['need_crop']:\n",
    "                x1, y1, x2, y2 = settings['crop_box']\n",
    "                _img = _img[y1:y2, x1:x2]\n",
    "            \n",
    "            _img = cv2.cvtColor(_img, cv2.COLOR_BGR2RGB)\n",
    "\n",
    "            psnr = cv2.PSNR(_img, clear_frame)\n",
    "            noisy_psnrs[i].append(psnr)\n",
    "            \n",
    "            ssim_metric = calculate_ssim(_img, clear_frame)\n",
    "            noisy_ssims[i].append(ssim_metric)\n",
    "            \n",
    "    \n",
    "    clear_psnrs = np.array(clear_psnrs)\n",
    "    clear_ssims = np.array(clear_ssims)\n",
    "\n",
    "    print(\n",
    "        'CLEAR | {}: ISO: {}, S: 1/{}, E[PSNR]={:.2f}, STD[PSNR]={:.2f}, E[SSIM]={:.2f}, STD[SSIM]={:.2f}'.format(\n",
    "            camera_type,\n",
    "            settings['stat']['ISO'][0],\n",
    "            settings['stat']['shutter'][0],\n",
    "            clear_psnrs.mean(),\n",
    "            clear_psnrs.std(),\n",
    "            clear_ssims.mean(),\n",
    "            clear_ssims.std()\n",
    "        )\n",
    "    )\n",
    "    \n",
    "    for i in range(len(noisy_psnrs)):\n",
    "        if len(noisy_psnrs[i]) == 0:\n",
    "            continue\n",
    "        \n",
    "        psnrs = np.array(noisy_psnrs[i])\n",
    "        ssims = np.array(noisy_ssims[i])\n",
    "\n",
    "        print(\n",
    "            'NOISY | {}: ISO: {}, S: 1/{}, E[PSNR]={:.2f}, STD[PSNR]={:.2f}, E[SSIM]={:.2f}, STD[SSIM]={:.2f}'.format(\n",
    "                camera_type,\n",
    "                settings['stat']['ISO'][i + 1],\n",
    "                settings['stat']['shutter'][i + 1],\n",
    "                psnrs.mean(),\n",
    "                psnrs.std(),\n",
    "                ssims.mean(),\n",
    "                ssims.std()\n",
    "            )\n",
    "        )"
   ]
  }
 ],
 "metadata": {
  "kernelspec": {
   "display_name": "Python 3 (ipykernel)",
   "language": "python",
   "name": "python3"
  },
  "language_info": {
   "codemirror_mode": {
    "name": "ipython",
    "version": 3
   },
   "file_extension": ".py",
   "mimetype": "text/x-python",
   "name": "python",
   "nbconvert_exporter": "python",
   "pygments_lexer": "ipython3",
   "version": "3.10.12"
  }
 },
 "nbformat": 4,
 "nbformat_minor": 5
}
