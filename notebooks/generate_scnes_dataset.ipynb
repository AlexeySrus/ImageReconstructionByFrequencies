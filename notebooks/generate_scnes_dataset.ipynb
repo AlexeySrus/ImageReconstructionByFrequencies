{
 "cells": [
  {
   "cell_type": "code",
   "execution_count": 15,
   "id": "18b1e8e8",
   "metadata": {},
   "outputs": [],
   "source": [
    "import cv2\n",
    "import numpy as np\n",
    "from matplotlib import pyplot as plt\n",
    "import os\n",
    "from tqdm.notebook import tqdm\n",
    "from shutil import copyfile\n",
    "\n",
    "%matplotlib inline"
   ]
  },
  {
   "cell_type": "code",
   "execution_count": 6,
   "id": "a5177d68",
   "metadata": {},
   "outputs": [
    {
     "data": {
      "application/vnd.jupyter.widget-view+json": {
       "model_id": "bf7eaf3d436b4716a8f1416a67b0cb17",
       "version_major": 2,
       "version_minor": 0
      },
      "text/plain": [
       "  0%|          | 0/10 [00:00<?, ?it/s]"
      ]
     },
     "metadata": {},
     "output_type": "display_data"
    }
   ],
   "source": [
    "camera_type = 'sony'\n",
    "\n",
    "settings = {}\n",
    "if camera_type == 'iphone13':\n",
    "    settings = {\n",
    "        'ext': '.TIF',\n",
    "        'splitter': 'IMG_',\n",
    "        'need_crop': True,\n",
    "        'crop_box': [800, 800, 3000, 2200],\n",
    "        'folder': 'iphone13'\n",
    "    }\n",
    "elif camera_type == 'sony':\n",
    "    settings = {\n",
    "        'ext': '.tiff',\n",
    "        'splitter': 'DSC',\n",
    "        'need_crop': False,\n",
    "        'folder': 'sony_a7c'\n",
    "    }\n",
    "    \n",
    "\n",
    "images_folder = '/media/alexey/HDDData/datasets/image_denoising/ours_dataset/temp_checking/{}/raw/'.format(\n",
    "    settings['folder']\n",
    ")\n",
    "images_folder = '/media/alexey/HDDData/datasets/image_denoising/ours_dataset/sonya7c/scene_2/raw/'\n",
    "\n",
    "images_paths = [\n",
    "    os.path.join(images_folder, fname) \n",
    "    for fname in os.listdir(images_folder)\n",
    "    if fname.endswith(settings['ext'])\n",
    "]\n",
    "    \n",
    "\n",
    "images_paths.sort(key=lambda x: int(os.path.splitext(x)[0].split(settings['splitter'])[-1]))\n",
    "images_paths = images_paths[:10]\n",
    "\n",
    "if settings['need_crop']:\n",
    "    print('Use crop')\n",
    "    x1, y1, x2, y2 = settings['crop_box']\n",
    "    \n",
    "    images = [\n",
    "        cv2.cvtColor(\n",
    "            cv2.imread(img_path, cv2.IMREAD_COLOR)[y1:y2, x1:x2],\n",
    "            cv2.COLOR_BGR2RGB\n",
    "        )\n",
    "        for img_path in tqdm(images_paths)\n",
    "    ]\n",
    "else:\n",
    "    images = [\n",
    "        cv2.cvtColor(cv2.imread(img_path, cv2.IMREAD_COLOR), cv2.COLOR_BGR2RGB)\n",
    "        for img_path in tqdm(images_paths)\n",
    "    ]\n",
    "    \n",
    "images = np.array(images)"
   ]
  },
  {
   "cell_type": "code",
   "execution_count": 20,
   "id": "81489af8",
   "metadata": {},
   "outputs": [
    {
     "data": {
      "application/vnd.jupyter.widget-view+json": {
       "model_id": "cf7a9b5850c1438bb31cb31695250417",
       "version_major": 2,
       "version_minor": 0
      },
      "text/plain": [
       "  0%|          | 0/8 [00:00<?, ?it/s]"
      ]
     },
     "metadata": {},
     "output_type": "display_data"
    }
   ],
   "source": [
    "base_path = '/media/alexey/HDDData/datasets/image_denoising/ours_dataset/sonya7c/'\n",
    "gts_path = '/media/alexey/HDDData/datasets/image_denoising/ours_dataset/aligned_frames/'\n",
    "\n",
    "os.makedirs(os.path.join(gts_path, 'clear/'), exists_ok=True)\n",
    "os.makedirs(os.path.join(gts_path, 'noisy/'), exists_ok=True)\n",
    "\n",
    "for scene in tqdm(os.listdir(base_path)):\n",
    "    images_folder = os.path.join(base_path, scene, 'raw')\n",
    "    images_paths = [\n",
    "        os.path.join(images_folder, fname) \n",
    "        for fname in os.listdir(images_folder)\n",
    "        if fname.endswith(settings['ext'])\n",
    "    ]\n",
    "    \n",
    "    images_paths.sort(key=lambda x: int(os.path.splitext(x)[0].split(settings['splitter'])[-1]))\n",
    "    clear_images_paths = images_paths[:10]\n",
    "    noisy_images_paths = images_paths[10:]\n",
    "    \n",
    "    if settings['need_crop']:\n",
    "        print('Use crop')\n",
    "        x1, y1, x2, y2 = settings['crop_box']\n",
    "\n",
    "        clear_images_paths = [\n",
    "            cv2.cvtColor(\n",
    "                cv2.imread(img_path, cv2.IMREAD_COLOR)[y1:y2, x1:x2],\n",
    "                cv2.COLOR_BGR2RGB\n",
    "            )\n",
    "            for img_path in clear_images_paths\n",
    "        ]\n",
    "    else:\n",
    "        clear_images = [\n",
    "            cv2.cvtColor(cv2.imread(img_path, cv2.IMREAD_COLOR), cv2.COLOR_BGR2RGB)\n",
    "            for img_path in clear_images_paths\n",
    "        ]\n",
    "\n",
    "    clear_images = np.array(clear_images)\n",
    "    clear_frame = clear_images.astype(np.float32).mean(axis=0).astype(np.uint8)\n",
    "    \n",
    "    for i, noisy_img_path in enumerate(noisy_images_paths):\n",
    "        gt_path = os.path.join(gts_path, 'clear/', 'custom_{}_{}_{}.tiff'.format(camera_type, scene, i + 1))\n",
    "        noisy_path = os.path.join(gts_path, 'noisy/', 'custom_{}_{}_{}.tiff'.format(camera_type, scene, i + 1))\n",
    "        \n",
    "        assert cv2.imwrite(gt_path, cv2.cvtColor(clear_frame, cv2.COLOR_RGB2BGR)), gt_path\n",
    "        \n",
    "#         if os.path.splitext(noisy_img_path)[1] == '.tiff':\n",
    "#             copyfile(noisy_img_path, noisy_path)\n",
    "#         else:\n",
    "        _img = cv2.imread(noisy_img_path, cv2.IMREAD_COLOR)\n",
    "        assert cv2.imwrite(noisy_path, _img), noisy_path"
   ]
  }
 ],
 "metadata": {
  "kernelspec": {
   "display_name": "Python 3 (ipykernel)",
   "language": "python",
   "name": "python3"
  },
  "language_info": {
   "codemirror_mode": {
    "name": "ipython",
    "version": 3
   },
   "file_extension": ".py",
   "mimetype": "text/x-python",
   "name": "python",
   "nbconvert_exporter": "python",
   "pygments_lexer": "ipython3",
   "version": "3.10.12"
  }
 },
 "nbformat": 4,
 "nbformat_minor": 5
}
